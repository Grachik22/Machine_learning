{
 "cells": [
  {
   "cell_type": "code",
   "execution_count": 28,
   "metadata": {},
   "outputs": [
    {
     "name": "stdout",
     "output_type": "stream",
     "text": [
      "[1, 2, 3, 4, 5, 6, 7] [3, 1, 4, 2, 4, 1, 3]\n",
      "Pupa:\n",
      "[4, 3, 7, 6, 9, 7, 10]\n",
      "Lupa:\n",
      "[-2, 1, -1, 2, 1, 5, 4]\n",
      "10\n"
     ]
    }
   ],
   "source": [
    "class Class_worker:\n",
    "    def __init__(self, count=0):\n",
    "        self.count = count\n",
    "\n",
    "    def take_salary(self, n):\n",
    "        self.count += n\n",
    "\n",
    "\n",
    "class Pupa(Class_worker):\n",
    "    def __init__(self, count=0):\n",
    "        super().__init__(count)\n",
    "\n",
    "    def do_work(self, spisok1, spisok2):\n",
    "        lo = []\n",
    "        for it1, it2 in zip(spisok1, spisok2):\n",
    "            lo.append(it1 + it2)  \n",
    "        print(lo)\n",
    "\n",
    "class Lupa(Class_worker):\n",
    "    def __init__(self, count=0):\n",
    "        super().__init__(count)\n",
    "        \n",
    "    def do_work(self, spisok1, spisok2):\n",
    "        lo = []\n",
    "        for it1, it2 in zip(spisok1, spisok2):\n",
    "            lo.append(it1 - it2)  \n",
    "        print(lo)\n",
    "\n",
    "class Accountant:\n",
    "    def give_salary(self, worker):\n",
    "        worker.take_salary(10)\n",
    "\n",
    "\n",
    "lupa = Lupa()\n",
    "pupa = Pupa()\n",
    "l1 = [1,2,3,4,5,6,7]\n",
    "l2 = [3,1,4,2,4,1,3]\n",
    "print(l1,l2)\n",
    "print(\"Pupa:\")\n",
    "pupa.do_work(l1, l2)\n",
    "print(\"Lupa:\")\n",
    "lupa.do_work(l1, l2)\n",
    "\n",
    "Ac1 = Accountant()\n",
    "Ac1.give_salary(pupa)\n",
    "Ac1.give_salary(lupa)\n",
    "print(lupa.count)\n"
   ]
  }
 ],
 "metadata": {
  "kernelspec": {
   "display_name": "base",
   "language": "python",
   "name": "python3"
  },
  "language_info": {
   "codemirror_mode": {
    "name": "ipython",
    "version": 3
   },
   "file_extension": ".py",
   "mimetype": "text/x-python",
   "name": "python",
   "nbconvert_exporter": "python",
   "pygments_lexer": "ipython3",
   "version": "3.9.5"
  }
 },
 "nbformat": 4,
 "nbformat_minor": 2
}
