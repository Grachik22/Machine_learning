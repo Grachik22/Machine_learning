{
 "cells": [
  {
   "cell_type": "markdown",
   "metadata": {},
   "source": [
    "Задание 2"
   ]
  },
  {
   "cell_type": "code",
   "execution_count": 8,
   "metadata": {},
   "outputs": [
    {
     "name": "stdout",
     "output_type": "stream",
     "text": [
      "МЯУ\n"
     ]
    }
   ],
   "source": [
    "n = int(input())\n",
    "a = []\n",
    "str_l = [input() for i in range(n)]\n",
    "\n",
    "k = 0\n",
    "for id in str_l:\n",
    "    if \"кот\" in id or \"Кот\" in id:\n",
    "        k +=1\n",
    "\n",
    "if k > 0:\n",
    "    print(\"МЯУ\")\n",
    "else: print(\"НЕТ\")\n"
   ]
  },
  {
   "cell_type": "markdown",
   "metadata": {},
   "source": [
    "Задание 3"
   ]
  },
  {
   "cell_type": "code",
   "execution_count": 22,
   "metadata": {},
   "outputs": [
    {
     "name": "stdout",
     "output_type": "stream",
     "text": [
      "НЕТ\n"
     ]
    }
   ],
   "source": [
    "word = \"\"\n",
    "word = input()\n",
    "l_little = len(word)\n",
    "l_big = len(word)\n",
    "l_word = word\n",
    "b_word = word\n",
    "while word != \"стоп\":\n",
    "    if len(word) > l_big:\n",
    "        l_big = len(word)\n",
    "        b_word = word\n",
    "    elif len(word) < l_little:\n",
    "        l_little = len(word)\n",
    "        l_word = word\n",
    "    word = input()\n",
    "\n",
    "k = 0\n",
    "for id in l_word:\n",
    "    if id in b_word:\n",
    "        k +=1\n",
    "if k == l_little and l_word != \"стоп\":\n",
    "    print(\"ДА\")\n",
    "else: print(\"НЕТ\")"
   ]
  },
  {
   "cell_type": "markdown",
   "metadata": {},
   "source": [
    "Задание 4"
   ]
  },
  {
   "cell_type": "code",
   "execution_count": 25,
   "metadata": {},
   "outputs": [
    {
     "name": "stdout",
     "output_type": "stream",
     "text": [
      "картину\n",
      "корзинку\n",
      "картонку\n",
      "маленькую собачонку\n"
     ]
    }
   ],
   "source": [
    "n = int(input())\n",
    "str_l1 = [input() for i in range(n)]\n",
    "for id in str_l1:\n",
    "    print(id)"
   ]
  },
  {
   "cell_type": "markdown",
   "metadata": {},
   "source": [
    "Задание 5"
   ]
  },
  {
   "cell_type": "code",
   "execution_count": 27,
   "metadata": {},
   "outputs": [
    {
     "name": "stdout",
     "output_type": "stream",
     "text": [
      "ХХооллоодднноо\n"
     ]
    }
   ],
   "source": [
    "str1 = input()\n",
    "str2 = \"\"\n",
    "for id in str1:\n",
    "    str2 +=2*id\n",
    "    \n",
    "print(str2)     "
   ]
  },
  {
   "cell_type": "markdown",
   "metadata": {},
   "source": [
    "Задание 6"
   ]
  },
  {
   "cell_type": "code",
   "execution_count": 32,
   "metadata": {},
   "outputs": [
    {
     "name": "stdout",
     "output_type": "stream",
     "text": [
      "Сначал напишите имя, затем фамилию\n",
      "Здравствуйте, Иван Смирнов\n"
     ]
    }
   ],
   "source": [
    "def greet():\n",
    "    print(\"Сначал напишите имя, затем фамилию\")\n",
    "    name = input()\n",
    "    lastname = input()\n",
    "    print(\"Здравствуйте,\",name,lastname)\n",
    "\n",
    "greet()"
   ]
  },
  {
   "cell_type": "markdown",
   "metadata": {},
   "source": [
    "Задание 7"
   ]
  },
  {
   "cell_type": "code",
   "execution_count": 36,
   "metadata": {},
   "outputs": [],
   "source": [
    "class LittleBell:\n",
    "    def sound(self):\n",
    "        print(\"ding\")"
   ]
  },
  {
   "cell_type": "code",
   "execution_count": 37,
   "metadata": {},
   "outputs": [
    {
     "name": "stdout",
     "output_type": "stream",
     "text": [
      "ding\n"
     ]
    }
   ],
   "source": [
    "bell = LittleBell()\n",
    "bell.sound()"
   ]
  },
  {
   "cell_type": "markdown",
   "metadata": {},
   "source": [
    "Задание 8\n",
    "Во время учёбы на физическом факультете были курсы по программированию с, с++, python"
   ]
  },
  {
   "cell_type": "markdown",
   "metadata": {},
   "source": []
  }
 ],
 "metadata": {
  "kernelspec": {
   "display_name": "base",
   "language": "python",
   "name": "python3"
  },
  "language_info": {
   "codemirror_mode": {
    "name": "ipython",
    "version": 3
   },
   "file_extension": ".py",
   "mimetype": "text/x-python",
   "name": "python",
   "nbconvert_exporter": "python",
   "pygments_lexer": "ipython3",
   "version": "3.9.5"
  }
 },
 "nbformat": 4,
 "nbformat_minor": 2
}
