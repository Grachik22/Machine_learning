{
 "cells": [
  {
   "cell_type": "markdown",
   "metadata": {},
   "source": [
    "Задача 1"
   ]
  },
  {
   "cell_type": "code",
   "execution_count": 1,
   "metadata": {},
   "outputs": [
    {
     "name": "stdout",
     "output_type": "stream",
     "text": [
      "15\n",
      "13\n",
      "10\n"
     ]
    }
   ],
   "source": [
    "n = int(input())\n",
    "l1 = [input() for i in range(n)]\n",
    "l1.sort()\n",
    "for item in reversed(l1):\n",
    "    print(item)"
   ]
  },
  {
   "cell_type": "markdown",
   "metadata": {},
   "source": [
    "Задача 2"
   ]
  },
  {
   "cell_type": "code",
   "execution_count": 5,
   "metadata": {},
   "outputs": [
    {
     "name": "stdout",
     "output_type": "stream",
     "text": [
      "LJPZ DME 11113283675\n",
      "SVO TRS 29481292\n"
     ]
    }
   ],
   "source": [
    "n = int(input())\n",
    "l1 = [input() for i in range(n)]\n",
    "for item in l1:\n",
    "    if item[:3] == 3*\"#\" or item[:4] == 4*\"#\": \n",
    "        continue\n",
    "    elif item[:2] == \"%%\": \n",
    "        print(item[2:])\n",
    "    else:\n",
    "        print(item)\n"
   ]
  },
  {
   "cell_type": "markdown",
   "metadata": {},
   "source": [
    "Задача 3"
   ]
  },
  {
   "cell_type": "code",
   "execution_count": 10,
   "metadata": {},
   "outputs": [
    {
     "name": "stdout",
     "output_type": "stream",
     "text": [
      "333\n"
     ]
    }
   ],
   "source": [
    "n = int(input())\n",
    "l1 = [int(input()) for i in range(n)]\n",
    "p = int(input())\n",
    "q = int(input())\n",
    "S = 0\n",
    "for item in l1[(p-1):q]:\n",
    "    S +=item\n",
    "print(S)"
   ]
  },
  {
   "cell_type": "markdown",
   "metadata": {},
   "source": [
    "Задача 4"
   ]
  },
  {
   "cell_type": "code",
   "execution_count": 54,
   "metadata": {},
   "outputs": [
    {
     "name": "stdout",
     "output_type": "stream",
     "text": [
      "Вдовиченко, Кац, Смирнова\n"
     ]
    }
   ],
   "source": [
    "def Artek(s,n):\n",
    "    s = s.replace(\",\", \"\")\n",
    "    l1 = s.split()\n",
    "    i = 0\n",
    "    l2 = [] # список для отличников \n",
    "    for idx, item in enumerate(l1):\n",
    "        if item == \"5\":\n",
    "            l2.append(l1[idx-1])\n",
    "            i +=1\n",
    "    l2.sort()\n",
    "    if i > n: \n",
    "        for item in l2[:n]:\n",
    "            if item != l2[n-1]:\n",
    "                print(item, end = ', ')\n",
    "            else: \n",
    "                print(item)\n",
    "    else:\n",
    "        for item in l2:\n",
    "            if item != l2[-1]:\n",
    "                print(item, end = ', ')\n",
    "            else: \n",
    "                print(item)\n",
    "\n",
    "s1 = input()\n",
    "n1 = int(input())\n",
    "Artek(s1,n1)"
   ]
  },
  {
   "cell_type": "markdown",
   "metadata": {},
   "source": [
    "Задание 5"
   ]
  },
  {
   "cell_type": "code",
   "execution_count": 12,
   "metadata": {},
   "outputs": [
    {
     "name": "stdout",
     "output_type": "stream",
     "text": [
      "Введите пароль\n",
      "Подтвердите пароль\n",
      "Слабый пароль\n"
     ]
    }
   ],
   "source": [
    "digits='1234567890'\n",
    "upper_letters='ABCDEFGHIJKLMNOPQRSTUVWXYZ'\n",
    "lower_letters='abcdefghijklmnopqrstuvwxyz'\n",
    "symbols = '!@#$%^&*()-+'\n",
    "\n",
    "def password_level():\n",
    "    print(\"Введите пароль\")\n",
    "    s = input()\n",
    "    print(\"Подтвердите пароль\")\n",
    "    s1 = input()\n",
    "    if s != s1:\n",
    "        print(\"Пароль не совпал\")\n",
    "        return 1\n",
    "    if len(s) < 8:\n",
    "        print(\"Недопустипмый пароль\")\n",
    "    ac = digits+upper_letters+lower_letters\n",
    "    if all(char in digits for char in s) or all(char in upper_letters for char in s) or all(char in lower_letters for char in s):\n",
    "        print(\"Ненадёжный пароль\") \n",
    "    if (any(char in lower_letters for char in s) and any(char in digits for char in s) and not any(char in upper_letters for char in s))  or (any(char in digits for char in s) and any(char in upper_letters for char in s) and not any(char in lower_letters for char in s)):\n",
    "        print(\"Слабый пароль\")\n",
    "    if any(char in lower_letters for char in s) and any(char in upper_letters for char in s) and not any(char in digits for char in s):\n",
    "        print(\"Слабый пароль\")\n",
    "    if any(char in digits for char in s) and any(char in upper_letters for char in s) and any(char in lower_letters for char in s) and any(char in symbols for char in s):\n",
    "        print(\"Надежный пароль\") \n",
    "\n",
    "password_level()\n",
    "#простите за костыль\n"
   ]
  }
 ],
 "metadata": {
  "kernelspec": {
   "display_name": "base",
   "language": "python",
   "name": "python3"
  },
  "language_info": {
   "codemirror_mode": {
    "name": "ipython",
    "version": 3
   },
   "file_extension": ".py",
   "mimetype": "text/x-python",
   "name": "python",
   "nbconvert_exporter": "python",
   "pygments_lexer": "ipython3",
   "version": "3.9.5"
  }
 },
 "nbformat": 4,
 "nbformat_minor": 2
}
